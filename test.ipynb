{
 "cells": [
  {
   "cell_type": "code",
   "execution_count": 3,
   "metadata": {},
   "outputs": [],
   "source": [
    "import pandas as pd"
   ]
  },
  {
   "cell_type": "code",
   "execution_count": null,
   "metadata": {},
   "outputs": [],
   "source": [
    "df =pd.read_csv(\"airports.csv\")\n",
    "pd.set_option('display.max_columns', None)"
   ]
  },
  {
   "cell_type": "code",
   "execution_count": null,
   "metadata": {},
   "outputs": [],
   "source": [
    "df.head()"
   ]
  },
  {
   "cell_type": "code",
   "execution_count": null,
   "metadata": {},
   "outputs": [],
   "source": [
    "unique_types = df[\"type\"].unique()"
   ]
  },
  {
   "cell_type": "code",
   "execution_count": null,
   "metadata": {},
   "outputs": [],
   "source": [
    "filtered_airports = df[df[\"type\"].isin([\"medium_airport\", \"large_airport\"])]\n",
    "filtered_airports.head()"
   ]
  },
  {
   "cell_type": "code",
   "execution_count": null,
   "metadata": {},
   "outputs": [],
   "source": [
    "search_result = df[df.applymap(lambda x: 'LAX' in str(x)).any(axis=1)]\n",
    "print(search_result)"
   ]
  },
  {
   "cell_type": "code",
   "execution_count": null,
   "metadata": {},
   "outputs": [],
   "source": [
    "row_2214 = df[df['id'] == 2214]\n",
    "\n",
    "# Display the row\n",
    "print(row_2214)"
   ]
  },
  {
   "cell_type": "code",
   "execution_count": null,
   "metadata": {},
   "outputs": [],
   "source": [
    "iata = df[df['iata_code'] == \"JFK\"]\n",
    "\n",
    "# Display the row\n",
    "print(iata)"
   ]
  },
  {
   "cell_type": "code",
   "execution_count": null,
   "metadata": {},
   "outputs": [],
   "source": [
    "data = {'origin': [\"HAM\"],\n",
    "        'destination': [\"LAX\"]}\n",
    "\n",
    "df = pd.DataFrame(data)\n",
    "\n",
    "# Write the DataFrame to a CSV file\n",
    "df.to_csv('output.csv', index=False)\n",
    "\n",
    "print(\"CSV file 'output.csv' has been created successfully.\")"
   ]
  },
  {
   "cell_type": "code",
   "execution_count": 24,
   "metadata": {},
   "outputs": [
    {
     "name": "stdout",
     "output_type": "stream",
     "text": [
      "   Airline  Aircraft origin destination  origin_lat  origin_lng  \\\n",
      "0      NaN       NaN    HAM         LAX   53.630402    9.988230   \n",
      "1      NaN       NaN    HAM         FRA   53.630402    9.988230   \n",
      "2      NaN       NaN    LAX         FRA   33.942501 -118.407997   \n",
      "3      NaN       NaN    IAH         PHX   29.984400  -95.341400   \n",
      "4      NaN       NaN    CPT         HHN         NaN         NaN   \n",
      "\n",
      "   destination_lat  destination_lng     distance  Regestration  Seat  \\\n",
      "0        33.942501      -118.407997  9086.586271           NaN   NaN   \n",
      "1        50.036521         8.561268   411.451527           NaN   NaN   \n",
      "2        50.036521         8.561268  9321.278881           NaN   NaN   \n",
      "3        33.435302      -112.005905  1620.425103           NaN   NaN   \n",
      "4              NaN              NaN          NaN           NaN   NaN   \n",
      "\n",
      "   Flight Number   Date   Home link   Wikipedia link  \n",
      "0            NaN    NaN         NaN              NaN  \n",
      "1            NaN    NaN         NaN              NaN  \n",
      "2            NaN    NaN         NaN              NaN  \n",
      "3            NaN    NaN         NaN              NaN  \n",
      "4            NaN    NaN         NaN              NaN  \n"
     ]
    }
   ],
   "source": [
    "own=pd.read_csv(\"data/own.csv\")\n",
    "print(own.head())"
   ]
  },
  {
   "cell_type": "code",
   "execution_count": null,
   "metadata": {},
   "outputs": [],
   "source": [
    "import pandas as pd\n",
    "\n",
    "# Sample data\n",
    "# airport_data = {\n",
    "#     'code': ['LAX', 'JFK', 'SFO'],\n",
    "#     'latitude_deg': [33.9425, 40.6413, 37.6217],\n",
    "#     'longitude_deg': [-118.4081, -73.7781, -122.3755]\n",
    "# }\n",
    "\n",
    "# own_data = {\n",
    "#     'origin': ['LAX', 'JFK', 'SFO'],\n",
    "#     'destination': ['JFK', 'SFO', 'LAX']\n",
    "# }\n",
    "\n",
    "# Create DataFrames\n",
    "airport_df = pd.read_csv(\"airports.csv\")\n",
    "own_df = pd.read_csv(\"output.csv\")\n",
    "\n",
    "def get_coordinates(airport_code):\n",
    "    # Get latitude and longitude for given airport code\n",
    "    row = airport_df[airport_df['iata_code'] == airport_code].iloc[0]\n",
    "    return row['latitude_deg'], row['longitude_deg']\n",
    "\n",
    "def get_flight_coordinates(row):\n",
    "    # Extract airport codes from 'origin' and 'destination' columns\n",
    "    origin_code = row['origin']\n",
    "    destination_code = row['destination']\n",
    "    \n",
    "    # Get coordinates for origin and destination airports\n",
    "    origin_lat, origin_lng = get_coordinates(origin_code)\n",
    "    destination_lat, destination_lng = get_coordinates(destination_code)\n",
    "    \n",
    "    return origin_lat, origin_lng, destination_lat, destination_lng\n",
    "\n",
    "# Apply the function to each row in own_df\n",
    "own_df[['origin_lat', 'origin_lng', 'destination_lat', 'destination_lng']] = own_df.apply(get_flight_coordinates, axis=1, result_type='expand')\n",
    "\n",
    "print(own_df)\n"
   ]
  },
  {
   "cell_type": "code",
   "execution_count": 15,
   "metadata": {},
   "outputs": [
    {
     "name": "stdout",
     "output_type": "stream",
     "text": [
      "  origin destination  origin_lat  origin_lng  destination_lat  \\\n",
      "0    HAM         LAX   53.630402     9.98823        33.942501   \n",
      "\n",
      "   destination_lng     distance  more_info  \n",
      "0      -118.407997  9086.586271        NaN  \n"
     ]
    }
   ],
   "source": [
    "#from here\n",
    "import pandas as pd\n",
    "\n",
    "airport_df = pd.read_csv(\"data/airports.csv\")\n",
    "own_df = pd.read_csv(\"data/own.csv\")\n",
    "\n",
    "def get_coordinates(airport_code):\n",
    "    # Get latitude and longitude for given airport code\n",
    "    row = airport_df[airport_df['iata_code'] == airport_code].iloc[0]\n",
    "    return row['latitude_deg'], row['longitude_deg']\n",
    "\n",
    "def get_flight_coordinates(row):\n",
    "    # Extract airport codes from 'origin' and 'destination' columns\n",
    "    origin_code = row['origin']\n",
    "    destination_code = row['destination']\n",
    "    \n",
    "    # Get coordinates for origin and destination airports\n",
    "    origin_lat = row['origin_lat'] if pd.notnull(row['origin_lat']) else get_coordinates(origin_code)[0]\n",
    "    origin_lng = row['origin_lng'] if pd.notnull(row['origin_lng']) else get_coordinates(origin_code)[1]\n",
    "    destination_lat = row['destination_lat'] if pd.notnull(row['destination_lat']) else get_coordinates(destination_code)[0]\n",
    "    destination_lng = row['destination_lng'] if pd.notnull(row['destination_lng']) else get_coordinates(destination_code)[1]\n",
    "    \n",
    "    return origin_lat, origin_lng, destination_lat, destination_lng\n",
    "\n",
    "# Apply the function to each row in own_df\n",
    "own_df[['origin_lat', 'origin_lng', 'destination_lat', 'destination_lng']] = own_df.apply(get_flight_coordinates, axis=1, result_type='expand')\n",
    "\n",
    "print(own_df)\n"
   ]
  },
  {
   "cell_type": "code",
   "execution_count": 16,
   "metadata": {},
   "outputs": [
    {
     "name": "stdout",
     "output_type": "stream",
     "text": [
      "  origin destination  origin_lat  origin_lng  destination_lat  \\\n",
      "0    HAM         LAX   53.630402     9.98823        33.942501   \n",
      "\n",
      "   destination_lng     distance  more_info  \n",
      "0      -118.407997  9086.586271        NaN  \n"
     ]
    }
   ],
   "source": [
    "import math\n",
    "\n",
    "def calculate_distance(lat1, lon1, lat2, lon2):\n",
    "    \"\"\"Calculate the great-circle distance between two points on the Earth.\"\"\"\n",
    "    # Convert latitude and longitude from degrees to radians\n",
    "    lat1, lon1, lat2, lon2 = map(math.radians, [lat1, lon1, lat2, lon2])\n",
    "    \n",
    "    # Haversine formula\n",
    "    dlat = lat2 - lat1\n",
    "    dlon = lon2 - lon1\n",
    "    a = math.sin(dlat/2)**2 + math.cos(lat1) * math.cos(lat2) * math.sin(dlon/2)**2\n",
    "    c = 2 * math.asin(math.sqrt(a))\n",
    "    r = 6371 # Radius of Earth in kilometers\n",
    "    return c * r\n",
    "\n",
    "# Iterate over rows\n",
    "for index, row in own_df.iterrows():\n",
    "    if pd.isnull(row['distance']):\n",
    "        lat1, lon1, lat2, lon2 = row['origin_lat'], row['origin_lng'], row['destination_lat'], row['destination_lng']\n",
    "        if pd.notnull(lat1) and pd.notnull(lon1) and pd.notnull(lat2) and pd.notnull(lon2):\n",
    "            own_df.at[index, 'distance'] = calculate_distance(lat1, lon1, lat2, lon2)\n",
    "\n",
    "print(own_df)\n",
    "own_df.to_csv('output.csv', index=False)"
   ]
  },
  {
   "cell_type": "code",
   "execution_count": 17,
   "metadata": {},
   "outputs": [
    {
     "name": "stdout",
     "output_type": "stream",
     "text": [
      "  origin destination  origin_lat  origin_lng  destination_lat  \\\n",
      "0    HAM         LAX   53.630402     9.98823        33.942501   \n",
      "1    HAM         JFK         NaN         NaN              NaN   \n",
      "\n",
      "   destination_lng     distance  more_info  \n",
      "0      -118.407997  9086.586271        NaN  \n",
      "1              NaN          NaN        NaN  \n"
     ]
    }
   ],
   "source": [
    "import pandas as pd\n",
    "\n",
    "def add_row_to_dataframe(df, values_dict):\n",
    "    # Create a new DataFrame with the values from the dictionary\n",
    "    new_row = pd.DataFrame([values_dict])\n",
    "\n",
    "    # Append the new row to the original DataFrame\n",
    "    df = pd.concat([df, new_row], ignore_index=True)\n",
    "\n",
    "    return df\n",
    "\n",
    "# Example usage:\n",
    "# Suppose you have an existing DataFrame\n",
    "#df = pd.DataFrame(columns=['A', 'B', 'C'])\n",
    "\n",
    "# Dictionary containing values for the new row\n",
    "new_row_values = {'origin': \"HAM\", 'destination': \"JFK\",}\n",
    "\n",
    "# Add the new row to the DataFrame\n",
    "own_df = add_row_to_dataframe(own_df, new_row_values)\n",
    "# df.to_csv('output.csv', index=False)\n",
    "print(own_df)\n"
   ]
  },
  {
   "cell_type": "code",
   "execution_count": 20,
   "metadata": {},
   "outputs": [
    {
     "name": "stdout",
     "output_type": "stream",
     "text": [
      "9086.586271240469\n"
     ]
    }
   ],
   "source": [
    "def get_column_sum(df, column_name):\n",
    "    column_sum=df[column_name].sum()\n",
    "    return column_sum\n",
    "sum_kilo=get_column_sum(own_df,'distance')\n",
    "print(sum_kilo)"
   ]
  },
  {
   "cell_type": "code",
   "execution_count": 22,
   "metadata": {},
   "outputs": [
    {
     "name": "stdout",
     "output_type": "stream",
     "text": [
      "0.9992505620784412\n"
     ]
    }
   ],
   "source": [
    "def surrounded_world(distance):\n",
    "    surrounded=distance/40030\n",
    "    return surrounded\n",
    "\n",
    "surrounden=surrounded_world(40000)\n",
    "print(surrounden)\n"
   ]
  },
  {
   "cell_type": "code",
   "execution_count": 23,
   "metadata": {},
   "outputs": [
    {
     "name": "stdout",
     "output_type": "stream",
     "text": [
      "The most common value in column 'A' is HAM, which occurs 2 times.\n"
     ]
    }
   ],
   "source": [
    "df = pd.read_csv(\"data/own.csv\")\n",
    "def most_common_value(df, column_name):\n",
    "    \"\"\"Find the most common value in a column and its frequency.\"\"\"\n",
    "    # Count the occurrences of each value in the column\n",
    "    value_counts = df[column_name].value_counts()\n",
    "    \n",
    "    # Find the value that occurs the most\n",
    "    most_common_value = value_counts.idxmax()\n",
    "    \n",
    "    # Find the frequency of the most common value\n",
    "    frequency = value_counts.max()\n",
    "    \n",
    "    return most_common_value, frequency\n",
    "most_common, frequency = most_common_value(df, \"origin\")\n",
    "print(f\"The most common value in column 'A' is {most_common}, which occurs {frequency} times.\")"
   ]
  },
  {
   "cell_type": "code",
   "execution_count": 42,
   "metadata": {},
   "outputs": [
    {
     "name": "stdout",
     "output_type": "stream",
     "text": [
      "              Airline   Aircraft Regestration   Seat Flight Number Origin  \\\n",
      "0         Lufthansa\\t   A321-200          NaN     9E        LH 005   EDDH   \n",
      "1   Lufthansa           B747-8i        D-ABYF    28K        LH 430   EDDF   \n",
      "2              United       B767          NaN    38L       UA 1989   KORD   \n",
      "3              United     E175LR       N85355    21B       UA 6248   KIAH   \n",
      "4              United  ERJ-145XR       N12163    10A       UA 5019   KCMH   \n",
      "5              United      B767           NaN    40A         UA 30   KEWR   \n",
      "6   Lufthansa           A319-100          NaN     6F    LH 015\\r\\n   EDDH   \n",
      "7              United   B777-200          NaN    43L        UA 047   EDDF   \n",
      "8              United   B777-200          NaN  35L\\t         UA 46   KIAH   \n",
      "9   Lufthansa           A320-200          NaN  18A\\t        LH 028   EDDF   \n",
      "10          Eurowings   A319-100       D-AGWX     6F       EW 7180   EDDH   \n",
      "11             United   B777-200          NaN    37A         UA 21    AMS   \n",
      "12           Frontier    A320neo       N358FR    29F        F 2479   KIAH   \n",
      "13             United   B737Max8          NaN    29F       UA 1217   KPHX   \n",
      "14             United       B737          NaN  23F\\t       UA 1849   KIAH   \n",
      "15          Lufthansa     B787-9       D-ABPB    11H        LH 469   KAUS   \n",
      "16          Lufthansa   A320-200          NaN    18D        LH 010   EDDF   \n",
      "17          Lufthansa   A320-200       D-AIUI     5F        LH 029   EDDH   \n",
      "18          Lufthansa   A340-300       D-AIGY    20K        LH 576   EDDF   \n",
      "19         Fly Safair     B737-8       ZS-FGD     5F        FA 134   FACT   \n",
      "20          Lufthansa   A340-300       D-AIFF    21C        LH 577   FACT   \n",
      "21          Lufthansa   A321-200       D-AISB    24F        LH 030   EDDF   \n",
      "\n",
      "   Destenation          Date  Unnamed: 8  Unnamed: 9  \\\n",
      "0         EDDF     28.8.2019         NaN         NaN   \n",
      "1         KORD     28.8.2019         NaN         NaN   \n",
      "2         KIAH     28.8.2019         NaN         NaN   \n",
      "3         KCMH     26.3.2020         NaN         NaN   \n",
      "4         KEWR     26.3.2020         NaN         NaN   \n",
      "5         EDDM     26.3.2020         NaN         NaN   \n",
      "6         EDDF    18.12.2021         NaN         NaN   \n",
      "7         KIAH    18.12.2021         NaN         NaN   \n",
      "8         EDDF      7.1.2022         NaN         NaN   \n",
      "9         EDDH      8.1.2022         NaN         NaN   \n",
      "10        EHAM     17.7.2023         NaN         NaN   \n",
      "11        KIAH     17.7.2023         NaN         NaN   \n",
      "12        KPHX     18.7.2023         NaN         NaN   \n",
      "13        KIAH     28.7.2023         NaN         NaN   \n",
      "14        KAUS      3.9.2023         NaN         NaN   \n",
      "15        EDDF      3.9.2023         NaN         NaN   \n",
      "16        EDDH  4.9.2023\\r\\n         NaN         NaN   \n",
      "17        EDDF     1.10.2023         NaN         NaN   \n",
      "18        FACT     1.10.2023         NaN         NaN   \n",
      "19        FAPE    29.11.2023         NaN         NaN   \n",
      "20        EDDF    20.12.2023         NaN         NaN   \n",
      "21        EDDH    20.12.2023         NaN         NaN   \n",
      "\n",
      "                                       Origin Address  \\\n",
      "0   Hamburg Arpt (HAM), Flughafenstr. 1-3, 22335 H...   \n",
      "1   Frankfurt Arpt (FRA), 60547 Frankfurt am Main,...   \n",
      "2   O'Hare International Airport (ORD), 10000 W Ba...   \n",
      "3   George Bush Intercontinental Airport (IAH), 28...   \n",
      "4   John Glenn Columbus International Airport (CMH...   \n",
      "5   Newark Liberty International Airport (EWR), 3 ...   \n",
      "6   Hamburg Arpt (HAM), Flughafenstr. 1-3, 22335 H...   \n",
      "7   Frankfurt Arpt (FRA), 60547 Frankfurt am Main,...   \n",
      "8   George Bush Intercontinental Airport (IAH), 28...   \n",
      "9   Frankfurt Arpt (FRA), 60547 Frankfurt am Main,...   \n",
      "10  Hamburg Arpt (HAM), Flughafenstr. 1-3, 22335 H...   \n",
      "11   Aankomstpassage 1, 1118 AX Schiphol, Netherlands   \n",
      "12  George Bush Intercontinental Airport (IAH), 28...   \n",
      "13  Phoenix Sky Harbor International Airport (PHX)...   \n",
      "14  George Bush Intercontinental Airport (IAH), 28...   \n",
      "15      3600 Presidential Blvd, Austin, TX 78719, USA   \n",
      "16  Frankfurt Arpt (FRA), 60547 Frankfurt am Main,...   \n",
      "17  Hamburg Arpt (HAM), Flughafenstr. 1-3, 22335 H...   \n",
      "18  Frankfurt Arpt (FRA), 60547 Frankfurt am Main,...   \n",
      "19      Matroosfontein, Cape Town, 7490, South Africa   \n",
      "20      Matroosfontein, Cape Town, 7490, South Africa   \n",
      "21  Frankfurt Arpt (FRA), 60547 Frankfurt am Main,...   \n",
      "\n",
      "                                  Destination address  \n",
      "0   Frankfurt Arpt (FRA), 60547 Frankfurt am Main,...  \n",
      "1   O'Hare International Airport (ORD), 10000 W Ba...  \n",
      "2   George Bush Intercontinental Airport (IAH), 28...  \n",
      "3   John Glenn Columbus International Airport (CMH...  \n",
      "4   Newark Liberty International Airport (EWR), 3 ...  \n",
      "5               Nordallee 25, 85356 München-Flughafen  \n",
      "6   Frankfurt Arpt (FRA), 60547 Frankfurt am Main,...  \n",
      "7   George Bush Intercontinental Airport (IAH), 28...  \n",
      "8   Frankfurt Arpt (FRA), 60547 Frankfurt am Main,...  \n",
      "9   Hamburg Arpt (HAM), Flughafenstr. 1-3, 22335 H...  \n",
      "10   Aankomstpassage 1, 1118 AX Schiphol, Netherlands  \n",
      "11  George Bush Intercontinental Airport (IAH), 28...  \n",
      "12  Phoenix Sky Harbor International Airport (PHX)...  \n",
      "13  George Bush Intercontinental Airport (IAH), 28...  \n",
      "14      3600 Presidential Blvd, Austin, TX 78719, USA  \n",
      "15  Frankfurt Arpt (FRA), 60547 Frankfurt am Main,...  \n",
      "16  Hamburg Arpt (HAM), Flughafenstr. 1-3, 22335 H...  \n",
      "17  Frankfurt Arpt (FRA), 60547 Frankfurt am Main,...  \n",
      "18      Matroosfontein, Cape Town, 7490, South Africa  \n",
      "19  Allister Miller Dr, Walmer, Gqeberha, 6070, So...  \n",
      "20  Frankfurt Arpt (FRA), 60547 Frankfurt am Main,...  \n",
      "21  Hamburg Arpt (HAM), Flughafenstr. 1-3, 22335 H...  \n"
     ]
    }
   ],
   "source": [
    "df=pd.read_csv(\"data/kolj.csv\")\n",
    "pd.set_option('display.max_columns', None)\n",
    "df.columns = df.columns.str.strip()\n",
    "df = df.iloc[:, :-7]\n",
    "print(df)\n",
    "df.to_csv(\"data/kolj2.csv\",index=False)"
   ]
  },
  {
   "cell_type": "code",
   "execution_count": 43,
   "metadata": {},
   "outputs": [],
   "source": [
    "df = df.drop(columns=['Unnamed: 8', 'Unnamed: 9'])\n",
    "df.to_csv(\"data/kolj2.csv\",index=False)"
   ]
  },
  {
   "cell_type": "code",
   "execution_count": 45,
   "metadata": {},
   "outputs": [],
   "source": [
    "# Add new columns with NaN values\n",
    "import numpy as np\n",
    "df['origin_lat'] = np.nan\n",
    "df['origin_lng'] = np.nan\n",
    "df['destination_lat'] = np.nan\n",
    "df['destination_lng'] = np.nan\n",
    "df['distance'] = np.nan"
   ]
  },
  {
   "cell_type": "code",
   "execution_count": 47,
   "metadata": {},
   "outputs": [],
   "source": [
    "df['origin_link'] = np.nan\n",
    "df['origin_wikipedia_link'] = np.nan\n",
    "df['destination_link'] = np.nan\n",
    "df['destination_wikipedia_link'] = np.nan"
   ]
  },
  {
   "cell_type": "code",
   "execution_count": 48,
   "metadata": {},
   "outputs": [
    {
     "name": "stdout",
     "output_type": "stream",
     "text": [
      "              Airline   Aircraft Regestration   Seat Flight Number Origin  \\\n",
      "0         Lufthansa\\t   A321-200          NaN     9E        LH 005   EDDH   \n",
      "1   Lufthansa           B747-8i        D-ABYF    28K        LH 430   EDDF   \n",
      "2              United       B767          NaN    38L       UA 1989   KORD   \n",
      "3              United     E175LR       N85355    21B       UA 6248   KIAH   \n",
      "4              United  ERJ-145XR       N12163    10A       UA 5019   KCMH   \n",
      "5              United      B767           NaN    40A         UA 30   KEWR   \n",
      "6   Lufthansa           A319-100          NaN     6F    LH 015\\r\\n   EDDH   \n",
      "7              United   B777-200          NaN    43L        UA 047   EDDF   \n",
      "8              United   B777-200          NaN  35L\\t         UA 46   KIAH   \n",
      "9   Lufthansa           A320-200          NaN  18A\\t        LH 028   EDDF   \n",
      "10          Eurowings   A319-100       D-AGWX     6F       EW 7180   EDDH   \n",
      "11             United   B777-200          NaN    37A         UA 21    AMS   \n",
      "12           Frontier    A320neo       N358FR    29F        F 2479   KIAH   \n",
      "13             United   B737Max8          NaN    29F       UA 1217   KPHX   \n",
      "14             United       B737          NaN  23F\\t       UA 1849   KIAH   \n",
      "15          Lufthansa     B787-9       D-ABPB    11H        LH 469   KAUS   \n",
      "16          Lufthansa   A320-200          NaN    18D        LH 010   EDDF   \n",
      "17          Lufthansa   A320-200       D-AIUI     5F        LH 029   EDDH   \n",
      "18          Lufthansa   A340-300       D-AIGY    20K        LH 576   EDDF   \n",
      "19         Fly Safair     B737-8       ZS-FGD     5F        FA 134   FACT   \n",
      "20          Lufthansa   A340-300       D-AIFF    21C        LH 577   FACT   \n",
      "21          Lufthansa   A321-200       D-AISB    24F        LH 030   EDDF   \n",
      "\n",
      "   Destenation          Date  \\\n",
      "0         EDDF     28.8.2019   \n",
      "1         KORD     28.8.2019   \n",
      "2         KIAH     28.8.2019   \n",
      "3         KCMH     26.3.2020   \n",
      "4         KEWR     26.3.2020   \n",
      "5         EDDM     26.3.2020   \n",
      "6         EDDF    18.12.2021   \n",
      "7         KIAH    18.12.2021   \n",
      "8         EDDF      7.1.2022   \n",
      "9         EDDH      8.1.2022   \n",
      "10        EHAM     17.7.2023   \n",
      "11        KIAH     17.7.2023   \n",
      "12        KPHX     18.7.2023   \n",
      "13        KIAH     28.7.2023   \n",
      "14        KAUS      3.9.2023   \n",
      "15        EDDF      3.9.2023   \n",
      "16        EDDH  4.9.2023\\r\\n   \n",
      "17        EDDF     1.10.2023   \n",
      "18        FACT     1.10.2023   \n",
      "19        FAPE    29.11.2023   \n",
      "20        EDDF    20.12.2023   \n",
      "21        EDDH    20.12.2023   \n",
      "\n",
      "                                       Origin Address  \\\n",
      "0   Hamburg Arpt (HAM), Flughafenstr. 1-3, 22335 H...   \n",
      "1   Frankfurt Arpt (FRA), 60547 Frankfurt am Main,...   \n",
      "2   O'Hare International Airport (ORD), 10000 W Ba...   \n",
      "3   George Bush Intercontinental Airport (IAH), 28...   \n",
      "4   John Glenn Columbus International Airport (CMH...   \n",
      "5   Newark Liberty International Airport (EWR), 3 ...   \n",
      "6   Hamburg Arpt (HAM), Flughafenstr. 1-3, 22335 H...   \n",
      "7   Frankfurt Arpt (FRA), 60547 Frankfurt am Main,...   \n",
      "8   George Bush Intercontinental Airport (IAH), 28...   \n",
      "9   Frankfurt Arpt (FRA), 60547 Frankfurt am Main,...   \n",
      "10  Hamburg Arpt (HAM), Flughafenstr. 1-3, 22335 H...   \n",
      "11   Aankomstpassage 1, 1118 AX Schiphol, Netherlands   \n",
      "12  George Bush Intercontinental Airport (IAH), 28...   \n",
      "13  Phoenix Sky Harbor International Airport (PHX)...   \n",
      "14  George Bush Intercontinental Airport (IAH), 28...   \n",
      "15      3600 Presidential Blvd, Austin, TX 78719, USA   \n",
      "16  Frankfurt Arpt (FRA), 60547 Frankfurt am Main,...   \n",
      "17  Hamburg Arpt (HAM), Flughafenstr. 1-3, 22335 H...   \n",
      "18  Frankfurt Arpt (FRA), 60547 Frankfurt am Main,...   \n",
      "19      Matroosfontein, Cape Town, 7490, South Africa   \n",
      "20      Matroosfontein, Cape Town, 7490, South Africa   \n",
      "21  Frankfurt Arpt (FRA), 60547 Frankfurt am Main,...   \n",
      "\n",
      "                                  Destination address  origin_lat  origin_lng  \\\n",
      "0   Frankfurt Arpt (FRA), 60547 Frankfurt am Main,...         NaN         NaN   \n",
      "1   O'Hare International Airport (ORD), 10000 W Ba...         NaN         NaN   \n",
      "2   George Bush Intercontinental Airport (IAH), 28...         NaN         NaN   \n",
      "3   John Glenn Columbus International Airport (CMH...         NaN         NaN   \n",
      "4   Newark Liberty International Airport (EWR), 3 ...         NaN         NaN   \n",
      "5               Nordallee 25, 85356 München-Flughafen         NaN         NaN   \n",
      "6   Frankfurt Arpt (FRA), 60547 Frankfurt am Main,...         NaN         NaN   \n",
      "7   George Bush Intercontinental Airport (IAH), 28...         NaN         NaN   \n",
      "8   Frankfurt Arpt (FRA), 60547 Frankfurt am Main,...         NaN         NaN   \n",
      "9   Hamburg Arpt (HAM), Flughafenstr. 1-3, 22335 H...         NaN         NaN   \n",
      "10   Aankomstpassage 1, 1118 AX Schiphol, Netherlands         NaN         NaN   \n",
      "11  George Bush Intercontinental Airport (IAH), 28...         NaN         NaN   \n",
      "12  Phoenix Sky Harbor International Airport (PHX)...         NaN         NaN   \n",
      "13  George Bush Intercontinental Airport (IAH), 28...         NaN         NaN   \n",
      "14      3600 Presidential Blvd, Austin, TX 78719, USA         NaN         NaN   \n",
      "15  Frankfurt Arpt (FRA), 60547 Frankfurt am Main,...         NaN         NaN   \n",
      "16  Hamburg Arpt (HAM), Flughafenstr. 1-3, 22335 H...         NaN         NaN   \n",
      "17  Frankfurt Arpt (FRA), 60547 Frankfurt am Main,...         NaN         NaN   \n",
      "18      Matroosfontein, Cape Town, 7490, South Africa         NaN         NaN   \n",
      "19  Allister Miller Dr, Walmer, Gqeberha, 6070, So...         NaN         NaN   \n",
      "20  Frankfurt Arpt (FRA), 60547 Frankfurt am Main,...         NaN         NaN   \n",
      "21  Hamburg Arpt (HAM), Flughafenstr. 1-3, 22335 H...         NaN         NaN   \n",
      "\n",
      "    destination_lat  destination_lng  distance  origin_link  \\\n",
      "0               NaN              NaN       NaN          NaN   \n",
      "1               NaN              NaN       NaN          NaN   \n",
      "2               NaN              NaN       NaN          NaN   \n",
      "3               NaN              NaN       NaN          NaN   \n",
      "4               NaN              NaN       NaN          NaN   \n",
      "5               NaN              NaN       NaN          NaN   \n",
      "6               NaN              NaN       NaN          NaN   \n",
      "7               NaN              NaN       NaN          NaN   \n",
      "8               NaN              NaN       NaN          NaN   \n",
      "9               NaN              NaN       NaN          NaN   \n",
      "10              NaN              NaN       NaN          NaN   \n",
      "11              NaN              NaN       NaN          NaN   \n",
      "12              NaN              NaN       NaN          NaN   \n",
      "13              NaN              NaN       NaN          NaN   \n",
      "14              NaN              NaN       NaN          NaN   \n",
      "15              NaN              NaN       NaN          NaN   \n",
      "16              NaN              NaN       NaN          NaN   \n",
      "17              NaN              NaN       NaN          NaN   \n",
      "18              NaN              NaN       NaN          NaN   \n",
      "19              NaN              NaN       NaN          NaN   \n",
      "20              NaN              NaN       NaN          NaN   \n",
      "21              NaN              NaN       NaN          NaN   \n",
      "\n",
      "    origin_wikipedia_link  destination_link  destination_wikipedia_link  \n",
      "0                     NaN               NaN                         NaN  \n",
      "1                     NaN               NaN                         NaN  \n",
      "2                     NaN               NaN                         NaN  \n",
      "3                     NaN               NaN                         NaN  \n",
      "4                     NaN               NaN                         NaN  \n",
      "5                     NaN               NaN                         NaN  \n",
      "6                     NaN               NaN                         NaN  \n",
      "7                     NaN               NaN                         NaN  \n",
      "8                     NaN               NaN                         NaN  \n",
      "9                     NaN               NaN                         NaN  \n",
      "10                    NaN               NaN                         NaN  \n",
      "11                    NaN               NaN                         NaN  \n",
      "12                    NaN               NaN                         NaN  \n",
      "13                    NaN               NaN                         NaN  \n",
      "14                    NaN               NaN                         NaN  \n",
      "15                    NaN               NaN                         NaN  \n",
      "16                    NaN               NaN                         NaN  \n",
      "17                    NaN               NaN                         NaN  \n",
      "18                    NaN               NaN                         NaN  \n",
      "19                    NaN               NaN                         NaN  \n",
      "20                    NaN               NaN                         NaN  \n",
      "21                    NaN               NaN                         NaN  \n"
     ]
    }
   ],
   "source": [
    "df.to_csv(\"data/kolj2.csv\")\n",
    "print(df)"
   ]
  },
  {
   "cell_type": "code",
   "execution_count": 4,
   "metadata": {},
   "outputs": [],
   "source": [
    "flights_df=pd.read_csv(\"data/kolj2.csv\")\n",
    "airports_df=pd.read_csv(\"data/airports.csv\")"
   ]
  },
  {
   "cell_type": "code",
   "execution_count": 14,
   "metadata": {},
   "outputs": [
    {
     "name": "stdout",
     "output_type": "stream",
     "text": [
      "         id ident           type                               name  \\\n",
      "37768  3632  KLAX  large_airport  Los Angeles International Airport   \n",
      "\n",
      "       latitude_deg  longitude_deg  elevation_ft continent iso_country  \\\n",
      "37768     33.942501    -118.407997         125.0       NaN          US   \n",
      "\n",
      "      iso_region municipality scheduled_service gps_code iata_code local_code  \\\n",
      "37768      US-CA  Los Angeles               yes     KLAX       LAX        LAX   \n",
      "\n",
      "                     home_link  \\\n",
      "37768  https://www.flylax.com/   \n",
      "\n",
      "                                          wikipedia_link     keywords  \n",
      "37768  https://en.wikipedia.org/wiki/Los_Angeles_Inte...  Tom Bradley  \n",
      "<class 'pandas.core.frame.DataFrame'>\n"
     ]
    }
   ],
   "source": [
    "row = airports_df[airports_df['iata_code']=='LAX'].iloc[:, :]\n",
    "print(row)\n",
    "print(type(row))"
   ]
  },
  {
   "cell_type": "code",
   "execution_count": 27,
   "metadata": {},
   "outputs": [
    {
     "name": "stdout",
     "output_type": "stream",
     "text": [
      "EDDH\n",
      "EDDF\n",
      "KORD\n",
      "KIAH\n",
      "KCMH\n",
      "KEWR\n",
      "EDDH\n",
      "EDDF\n",
      "KIAH\n",
      "EDDF\n",
      "EDDH\n",
      "AMS\n",
      "KIAH\n",
      "KPHX\n",
      "KIAH\n",
      "KAUS\n",
      "EDDF\n",
      "EDDH\n",
      "EDDF\n",
      "FACT\n",
      "FACT\n",
      "EDDF\n"
     ]
    }
   ],
   "source": [
    "for index, row in flights_df.iterrows():\n",
    "    origin_value = row['origin']\n",
    "    lax_row = airports_df.loc[airports_df['ident'] == origin_value]\n",
    "    latitude = lax_row['latitude_deg'].iloc[0] \n",
    "    longitude = lax_row['longitude_deg'].iloc[0]\n",
    "    print(latitude)\n",
    "    # Now you can use origin_value as needed\n",
    "    #print(origin_value)"
   ]
  },
  {
   "cell_type": "code",
   "execution_count": 25,
   "metadata": {},
   "outputs": [
    {
     "name": "stdout",
     "output_type": "stream",
     "text": [
      "8.561268\n",
      "50.036521\n"
     ]
    }
   ],
   "source": [
    "lax_row = airports_df.loc[airports_df['ident'] == 'EDDF']\n",
    "latitude = lax_row['latitude_deg'].iloc[0] \n",
    "longitude = lax_row['longitude_deg'].iloc[0]\n",
    "print(longitude)\n",
    "print(latitude)"
   ]
  }
 ],
 "metadata": {
  "kernelspec": {
   "display_name": ".venv",
   "language": "python",
   "name": "python3"
  },
  "language_info": {
   "codemirror_mode": {
    "name": "ipython",
    "version": 3
   },
   "file_extension": ".py",
   "mimetype": "text/x-python",
   "name": "python",
   "nbconvert_exporter": "python",
   "pygments_lexer": "ipython3",
   "version": "3.11.7"
  },
  "orig_nbformat": 4
 },
 "nbformat": 4,
 "nbformat_minor": 2
}
