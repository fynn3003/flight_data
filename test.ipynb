{
 "cells": [
  {
   "cell_type": "code",
   "execution_count": null,
   "metadata": {},
   "outputs": [],
   "source": [
    "import pandas as pd"
   ]
  },
  {
   "cell_type": "code",
   "execution_count": null,
   "metadata": {},
   "outputs": [],
   "source": [
    "df =pd.read_csv(\"airports.csv\")\n",
    "pd.set_option('display.max_columns', None)"
   ]
  },
  {
   "cell_type": "code",
   "execution_count": null,
   "metadata": {},
   "outputs": [],
   "source": [
    "df.head()"
   ]
  },
  {
   "cell_type": "code",
   "execution_count": null,
   "metadata": {},
   "outputs": [],
   "source": [
    "unique_types = df[\"type\"].unique()"
   ]
  },
  {
   "cell_type": "code",
   "execution_count": null,
   "metadata": {},
   "outputs": [],
   "source": [
    "filtered_airports = df[df[\"type\"].isin([\"medium_airport\", \"large_airport\"])]\n",
    "filtered_airports.head()"
   ]
  },
  {
   "cell_type": "code",
   "execution_count": null,
   "metadata": {},
   "outputs": [],
   "source": [
    "search_result = df[df.applymap(lambda x: 'LAX' in str(x)).any(axis=1)]\n",
    "print(search_result)"
   ]
  },
  {
   "cell_type": "code",
   "execution_count": null,
   "metadata": {},
   "outputs": [],
   "source": [
    "row_2214 = df[df['id'] == 2214]\n",
    "\n",
    "# Display the row\n",
    "print(row_2214)"
   ]
  },
  {
   "cell_type": "code",
   "execution_count": null,
   "metadata": {},
   "outputs": [],
   "source": [
    "iata = df[df['iata_code'] == \"JFK\"]\n",
    "\n",
    "# Display the row\n",
    "print(iata)"
   ]
  },
  {
   "cell_type": "code",
   "execution_count": null,
   "metadata": {},
   "outputs": [],
   "source": [
    "data = {'origin': [\"HAM\"],\n",
    "        'destination': [\"LAX\"]}\n",
    "\n",
    "df = pd.DataFrame(data)\n",
    "\n",
    "# Write the DataFrame to a CSV file\n",
    "df.to_csv('output.csv', index=False)\n",
    "\n",
    "print(\"CSV file 'output.csv' has been created successfully.\")"
   ]
  },
  {
   "cell_type": "code",
   "execution_count": null,
   "metadata": {},
   "outputs": [],
   "source": [
    "own=pd.read_csv(\"output.csv\")\n",
    "print(own.head())"
   ]
  },
  {
   "cell_type": "code",
   "execution_count": null,
   "metadata": {},
   "outputs": [],
   "source": [
    "import pandas as pd\n",
    "\n",
    "# Sample data\n",
    "# airport_data = {\n",
    "#     'code': ['LAX', 'JFK', 'SFO'],\n",
    "#     'latitude_deg': [33.9425, 40.6413, 37.6217],\n",
    "#     'longitude_deg': [-118.4081, -73.7781, -122.3755]\n",
    "# }\n",
    "\n",
    "# own_data = {\n",
    "#     'origin': ['LAX', 'JFK', 'SFO'],\n",
    "#     'destination': ['JFK', 'SFO', 'LAX']\n",
    "# }\n",
    "\n",
    "# Create DataFrames\n",
    "airport_df = pd.read_csv(\"airports.csv\")\n",
    "own_df = pd.read_csv(\"output.csv\")\n",
    "\n",
    "def get_coordinates(airport_code):\n",
    "    # Get latitude and longitude for given airport code\n",
    "    row = airport_df[airport_df['iata_code'] == airport_code].iloc[0]\n",
    "    return row['latitude_deg'], row['longitude_deg']\n",
    "\n",
    "def get_flight_coordinates(row):\n",
    "    # Extract airport codes from 'origin' and 'destination' columns\n",
    "    origin_code = row['origin']\n",
    "    destination_code = row['destination']\n",
    "    \n",
    "    # Get coordinates for origin and destination airports\n",
    "    origin_lat, origin_lng = get_coordinates(origin_code)\n",
    "    destination_lat, destination_lng = get_coordinates(destination_code)\n",
    "    \n",
    "    return origin_lat, origin_lng, destination_lat, destination_lng\n",
    "\n",
    "# Apply the function to each row in own_df\n",
    "own_df[['origin_lat', 'origin_lng', 'destination_lat', 'destination_lng']] = own_df.apply(get_flight_coordinates, axis=1, result_type='expand')\n",
    "\n",
    "print(own_df)\n"
   ]
  },
  {
   "cell_type": "code",
   "execution_count": 15,
   "metadata": {},
   "outputs": [
    {
     "name": "stdout",
     "output_type": "stream",
     "text": [
      "  origin destination  origin_lat  origin_lng  destination_lat  \\\n",
      "0    HAM         LAX   53.630402     9.98823        33.942501   \n",
      "\n",
      "   destination_lng     distance  more_info  \n",
      "0      -118.407997  9086.586271        NaN  \n"
     ]
    }
   ],
   "source": [
    "#from here\n",
    "import pandas as pd\n",
    "\n",
    "airport_df = pd.read_csv(\"data/airports.csv\")\n",
    "own_df = pd.read_csv(\"data/own.csv\")\n",
    "\n",
    "def get_coordinates(airport_code):\n",
    "    # Get latitude and longitude for given airport code\n",
    "    row = airport_df[airport_df['iata_code'] == airport_code].iloc[0]\n",
    "    return row['latitude_deg'], row['longitude_deg']\n",
    "\n",
    "def get_flight_coordinates(row):\n",
    "    # Extract airport codes from 'origin' and 'destination' columns\n",
    "    origin_code = row['origin']\n",
    "    destination_code = row['destination']\n",
    "    \n",
    "    # Get coordinates for origin and destination airports\n",
    "    origin_lat = row['origin_lat'] if pd.notnull(row['origin_lat']) else get_coordinates(origin_code)[0]\n",
    "    origin_lng = row['origin_lng'] if pd.notnull(row['origin_lng']) else get_coordinates(origin_code)[1]\n",
    "    destination_lat = row['destination_lat'] if pd.notnull(row['destination_lat']) else get_coordinates(destination_code)[0]\n",
    "    destination_lng = row['destination_lng'] if pd.notnull(row['destination_lng']) else get_coordinates(destination_code)[1]\n",
    "    \n",
    "    return origin_lat, origin_lng, destination_lat, destination_lng\n",
    "\n",
    "# Apply the function to each row in own_df\n",
    "own_df[['origin_lat', 'origin_lng', 'destination_lat', 'destination_lng']] = own_df.apply(get_flight_coordinates, axis=1, result_type='expand')\n",
    "\n",
    "print(own_df)\n"
   ]
  },
  {
   "cell_type": "code",
   "execution_count": 16,
   "metadata": {},
   "outputs": [
    {
     "name": "stdout",
     "output_type": "stream",
     "text": [
      "  origin destination  origin_lat  origin_lng  destination_lat  \\\n",
      "0    HAM         LAX   53.630402     9.98823        33.942501   \n",
      "\n",
      "   destination_lng     distance  more_info  \n",
      "0      -118.407997  9086.586271        NaN  \n"
     ]
    }
   ],
   "source": [
    "import math\n",
    "\n",
    "def calculate_distance(lat1, lon1, lat2, lon2):\n",
    "    \"\"\"Calculate the great-circle distance between two points on the Earth.\"\"\"\n",
    "    # Convert latitude and longitude from degrees to radians\n",
    "    lat1, lon1, lat2, lon2 = map(math.radians, [lat1, lon1, lat2, lon2])\n",
    "    \n",
    "    # Haversine formula\n",
    "    dlat = lat2 - lat1\n",
    "    dlon = lon2 - lon1\n",
    "    a = math.sin(dlat/2)**2 + math.cos(lat1) * math.cos(lat2) * math.sin(dlon/2)**2\n",
    "    c = 2 * math.asin(math.sqrt(a))\n",
    "    r = 6371 # Radius of Earth in kilometers\n",
    "    return c * r\n",
    "\n",
    "# Iterate over rows\n",
    "for index, row in own_df.iterrows():\n",
    "    if pd.isnull(row['distance']):\n",
    "        lat1, lon1, lat2, lon2 = row['origin_lat'], row['origin_lng'], row['destination_lat'], row['destination_lng']\n",
    "        if pd.notnull(lat1) and pd.notnull(lon1) and pd.notnull(lat2) and pd.notnull(lon2):\n",
    "            own_df.at[index, 'distance'] = calculate_distance(lat1, lon1, lat2, lon2)\n",
    "\n",
    "print(own_df)\n",
    "own_df.to_csv('output.csv', index=False)"
   ]
  },
  {
   "cell_type": "code",
   "execution_count": 17,
   "metadata": {},
   "outputs": [
    {
     "name": "stdout",
     "output_type": "stream",
     "text": [
      "  origin destination  origin_lat  origin_lng  destination_lat  \\\n",
      "0    HAM         LAX   53.630402     9.98823        33.942501   \n",
      "1    HAM         JFK         NaN         NaN              NaN   \n",
      "\n",
      "   destination_lng     distance  more_info  \n",
      "0      -118.407997  9086.586271        NaN  \n",
      "1              NaN          NaN        NaN  \n"
     ]
    }
   ],
   "source": [
    "import pandas as pd\n",
    "\n",
    "def add_row_to_dataframe(df, values_dict):\n",
    "    # Create a new DataFrame with the values from the dictionary\n",
    "    new_row = pd.DataFrame([values_dict])\n",
    "\n",
    "    # Append the new row to the original DataFrame\n",
    "    df = pd.concat([df, new_row], ignore_index=True)\n",
    "\n",
    "    return df\n",
    "\n",
    "# Example usage:\n",
    "# Suppose you have an existing DataFrame\n",
    "#df = pd.DataFrame(columns=['A', 'B', 'C'])\n",
    "\n",
    "# Dictionary containing values for the new row\n",
    "new_row_values = {'origin': \"HAM\", 'destination': \"JFK\",}\n",
    "\n",
    "# Add the new row to the DataFrame\n",
    "own_df = add_row_to_dataframe(own_df, new_row_values)\n",
    "# df.to_csv('output.csv', index=False)\n",
    "print(own_df)\n"
   ]
  },
  {
   "cell_type": "code",
   "execution_count": 20,
   "metadata": {},
   "outputs": [
    {
     "name": "stdout",
     "output_type": "stream",
     "text": [
      "9086.586271240469\n"
     ]
    }
   ],
   "source": [
    "def get_column_sum(df, column_name):\n",
    "    column_sum=df[column_name].sum()\n",
    "    return column_sum\n",
    "sum_kilo=get_column_sum(own_df,'distance')\n",
    "print(sum_kilo)"
   ]
  },
  {
   "cell_type": "code",
   "execution_count": 22,
   "metadata": {},
   "outputs": [
    {
     "name": "stdout",
     "output_type": "stream",
     "text": [
      "0.9992505620784412\n"
     ]
    }
   ],
   "source": [
    "def surrounded_world(distance):\n",
    "    surrounded=distance/40030\n",
    "    return surrounded\n",
    "\n",
    "surrounden=surrounded_world(40000)\n",
    "print(surrounden)\n"
   ]
  },
  {
   "cell_type": "code",
   "execution_count": 23,
   "metadata": {},
   "outputs": [
    {
     "name": "stdout",
     "output_type": "stream",
     "text": [
      "The most common value in column 'A' is HAM, which occurs 2 times.\n"
     ]
    }
   ],
   "source": [
    "df = pd.read_csv(\"data/own.csv\")\n",
    "def most_common_value(df, column_name):\n",
    "    \"\"\"Find the most common value in a column and its frequency.\"\"\"\n",
    "    # Count the occurrences of each value in the column\n",
    "    value_counts = df[column_name].value_counts()\n",
    "    \n",
    "    # Find the value that occurs the most\n",
    "    most_common_value = value_counts.idxmax()\n",
    "    \n",
    "    # Find the frequency of the most common value\n",
    "    frequency = value_counts.max()\n",
    "    \n",
    "    return most_common_value, frequency\n",
    "most_common, frequency = most_common_value(df, \"origin\")\n",
    "print(f\"The most common value in column 'A' is {most_common}, which occurs {frequency} times.\")"
   ]
  }
 ],
 "metadata": {
  "kernelspec": {
   "display_name": ".venv",
   "language": "python",
   "name": "python3"
  },
  "language_info": {
   "codemirror_mode": {
    "name": "ipython",
    "version": 3
   },
   "file_extension": ".py",
   "mimetype": "text/x-python",
   "name": "python",
   "nbconvert_exporter": "python",
   "pygments_lexer": "ipython3",
   "version": "3.11.7"
  },
  "orig_nbformat": 4
 },
 "nbformat": 4,
 "nbformat_minor": 2
}
